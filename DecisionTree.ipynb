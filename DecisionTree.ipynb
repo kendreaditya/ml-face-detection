{
 "nbformat": 4,
 "nbformat_minor": 0,
 "metadata": {
  "colab": {
   "provenance": [],
   "authorship_tag": "ABX9TyNqpBSvr9lxQA5g5pu6aB7w",
   "include_colab_link": true
  },
  "kernelspec": {
   "name": "python3",
   "display_name": "Python 3"
  },
  "language_info": {
   "name": "python"
  }
 },
 "cells": [
  {
   "cell_type": "markdown",
   "metadata": {
    "id": "view-in-github",
    "colab_type": "text"
   },
   "source": [
    "<a href=\"https://colab.research.google.com/github/kendreaditya/ml-face-detection/blob/main/DecisionTree.ipynb\" target=\"_parent\"><img src=\"https://colab.research.google.com/assets/colab-badge.svg\" alt=\"Open In Colab\"/></a>"
   ]
  },
  {
   "cell_type": "code",
   "source": [
    "# imports needed\n",
    "import numpy as np\n",
    "import pandas as pd\n",
    "from sklearn.model_selection import train_test_split\n",
    "from sklearn.tree import DecisionTreeClassifier\n"
   ],
   "metadata": {
    "id": "Gt5XrD820qMf"
   },
   "execution_count": null,
   "outputs": []
  },
  {
   "cell_type": "code",
   "source": [
    "# gets data as pandas data frame from script args\n",
    "import argparse\n",
    "\n",
    "parser = argparse.ArgumentParser()\n",
    "parser.add_argument(\"--data\", type = pd.DataFrame, help = \"pandas dataframe containing data\")\n",
    "\n",
    "args = parser.parse_args()\n",
    "\n",
    "data = args.data\n"
   ],
   "metadata": {
    "id": "AniKjj812khl"
   },
   "execution_count": null,
   "outputs": []
  },
  {
   "cell_type": "code",
   "source": [
    "# split the data into training and testing sets\n",
    "\n",
    "# Separating the target variable\n",
    "features = data.values[:, 1:5]\n",
    "target = data.values[:, 0]\n",
    "\n",
    "# Splitting the dataset into train and test sets\n",
    "features_train, features_test, target_train, target_test = train_test_split(features, target, test_size = 0.3, random_state = 100)"
   ],
   "metadata": {
    "id": "gHPN1bRE2gqa"
   },
   "execution_count": null,
   "outputs": []
  },
  {
   "cell_type": "code",
   "source": [
    "# Creating the classifier object\n",
    "decision_tree = DecisionTreeClassifier(criterion = \"gini\", \n",
    "                                        random_state = 100, max_depth = 3, \n",
    "                                        min_samples_leaf = 5)\n",
    "\n",
    "# train the decision tree\n",
    "decision_tree.fit(features_train, target_train)"
   ],
   "metadata": {
    "id": "PaYNf_1R2m6n"
   },
   "execution_count": null,
   "outputs": []
  },
  {
   "cell_type": "code",
   "source": [
    "# how to make a prediction using the decision tree\n",
    "class_prediction = decision_tree.predict(features_test)"
   ],
   "metadata": {
    "id": "NKx7Ehhv280E"
   },
   "execution_count": null,
   "outputs": []
  }
 ]
}
