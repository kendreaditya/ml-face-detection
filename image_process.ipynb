{
 "cells": [
  {
   "cell_type": "code",
   "execution_count": 70,
   "metadata": {
    "collapsed": false
   },
   "outputs": [
    {
     "name": "stdout",
     "output_type": "stream",
     "text": [
      "Requirement already satisfied: opencv-python in c:\\users\\jinyo\\anaconda3\\lib\\site-packages (4.7.0.72)\n",
      "Requirement already satisfied: numpy>=1.17.0 in c:\\users\\jinyo\\anaconda3\\lib\\site-packages (from opencv-python) (1.21.5)\n"
     ]
    }
   ],
   "source": [
    "!pip install opencv-python"
   ]
  },
  {
   "cell_type": "code",
   "execution_count": 71,
   "metadata": {
    "collapsed": true
   },
   "outputs": [],
   "source": [
    "import os\n",
    "import cv2"
   ]
  },
  {
   "cell_type": "code",
   "execution_count": 72,
   "metadata": {
    "collapsed": false
   },
   "outputs": [],
   "source": [
    "path = './data'\n",
    "names = ['aditya', 'jinyoon', 'Kenya', 'Peter', 'sami']\n",
    "video_form = ['.mp4', '.mov' , '.MOV']\n",
    "multipliers = [1, 2, 2, 4, 1]"
   ]
  },
  {
   "cell_type": "code",
   "execution_count": 73,
   "metadata": {
    "collapsed": false
   },
   "outputs": [],
   "source": [
    "def get_frames(video_path, output_dir, fps):  # 30 frame, from video to images\n",
    "    if not os.path.exists(output_dir):\n",
    "        os.makedirs(output_dir)\n",
    "    cap = cv2.VideoCapture(video_path)\n",
    "    frame_count = int(cap.get(cv2.CAP_PROP_FRAME_COUNT))\n",
    "    frame_rate = int(cap.get(cv2.CAP_PROP_FPS))\n",
    "\n",
    "    step = frame_rate // fps if frame_rate >= fps else 1\n",
    "\n",
    "    frame_idx = 0\n",
    "    for i in range(0, frame_count):\n",
    "        ret, frame = cap.read()\n",
    "        if ret:\n",
    "            if i % step == 0:\n",
    "                cv2.imwrite(os.path.join(output_dir, f\"frame_{frame_idx:04d}.png\"), frame)  # caps at 4th digit, 01,02....\n",
    "                frame_idx += 1\n",
    "        else:\n",
    "            break\n",
    "    cap.release()\n",
    "    \n",
    "    # caps at 4th digit, 01,02...."
   ]
  },
  {
   "cell_type": "code",
   "execution_count": 74,
   "metadata": {
    "collapsed": false
   },
   "outputs": [
    {
     "name": "stdout",
     "output_type": "stream",
     "text": [
      "30\n",
      "30\n",
      "60\n",
      "60\n",
      "60\n",
      "60\n",
      "120\n",
      "120\n",
      "30\n",
      "30\n"
     ]
    }
   ],
   "source": [
    "# multiplier version\n",
    "for name, mul in zip(names, multipliers):  # for each name directory,\n",
    "    dir_path = os.path.join(path, name)\n",
    "    output_images = os.path.join(dir_path, 'images_mul')\n",
    "    for file in os.listdir(dir_path):  # for each file in dir\n",
    "        if file.endswith(tuple(video_form)):  # if this file is mov or mp4,\n",
    "            video_path = os.path.join(dir_path, file)  # get its path\n",
    "            desired_fps = 30 * mul\n",
    "            get_frames(video_path, output_images, desired_fps)  # then extract its frame, output to the image directory"
   ]
  },
  {
   "cell_type": "code",
   "execution_count": 76,
   "metadata": {
    "collapsed": false
   },
   "outputs": [
    {
     "name": "stdout",
     "output_type": "stream",
     "text": [
      "Number of images for aditya: 928\n",
      "Number of images for jinyoon: 455\n",
      "Number of images for Kenya: 512\n",
      "Number of images for Peter: 258\n",
      "Number of images for sami: 925\n"
     ]
    }
   ],
   "source": [
    "for name in names:\n",
    "    dir_path = os.path.join(path,name,\"images\")\n",
    "    num_images = len(os.listdir(dir_path))\n",
    "    print(\"Number of images for \" + name + \": \" + str(num_images))"
   ]
  },
  {
   "cell_type": "code",
   "execution_count": null,
   "metadata": {
    "collapsed": false
   },
   "outputs": [],
   "source": []
  },
  {
   "cell_type": "code",
   "execution_count": null,
   "metadata": {
    "collapsed": false
   },
   "outputs": [],
   "source": []
  }
 ],
 "metadata": {
  "kernelspec": {
   "display_name": "Python 3",
   "language": "python",
   "name": "python3"
  },
  "language_info": {
   "codemirror_mode": {
    "name": "ipython",
    "version": 2
   },
   "file_extension": ".py",
   "mimetype": "text/x-python",
   "name": "python",
   "nbconvert_exporter": "python",
   "pygments_lexer": "ipython2",
   "version": "2.7.6"
  }
 },
 "nbformat": 4,
 "nbformat_minor": 0
}
